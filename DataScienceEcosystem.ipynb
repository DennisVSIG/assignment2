{
 "cells": [
  {
   "cell_type": "markdown",
   "id": "bae78944-ab4c-415b-9bc2-48f0881a7e65",
   "metadata": {},
   "source": [
    "# Data Science Tools and Ecosystem"
   ]
  },
  {
   "cell_type": "markdown",
   "id": "9286f9ca-8b77-495c-89eb-151373f58d88",
   "metadata": {},
   "source": [
    "In this notebook, Data Science Tools and Ecosystem are summarized."
   ]
  },
  {
   "cell_type": "markdown",
   "id": "77d1a39d-f93a-4aa7-b009-ac60138efbe6",
   "metadata": {},
   "source": [
    "Some of the popular languages that Data Scientists use are:\n",
    "1. Python\n",
    "2. R\n",
    "3. Julia\n",
    "4. Scala\n",
    "5. SQL"
   ]
  },
  {
   "cell_type": "markdown",
   "id": "949dc246-6a20-4bf0-9c8e-2b954d4ec5ac",
   "metadata": {},
   "source": [
    "Some of the commonly used libraries used by Data Scientists include:\n",
    "1. Matplotlib\n",
    "2. NumPy\n",
    "3. Pandas \n",
    "4. ggplot\n",
    "\n",
    "\n",
    "    "
   ]
  },
  {
   "cell_type": "markdown",
   "id": "6aeb3843-27c3-4de8-99b1-8ce77b8e872f",
   "metadata": {},
   "source": [
    "| Data Science Tools |\n",
    "|--------------------|\n",
    "| Tensor Flow        |\n",
    "| Apache Hadoop      |\n",
    "| WEKA               |\n",
    "\n"
   ]
  },
  {
   "cell_type": "markdown",
   "id": "f4647a15-1748-4a3b-8b2b-601bd0d77d2c",
   "metadata": {},
   "source": [
    "### Below are a few examples of evaluating arithmetic expressions in Python\n",
    "\n",
    "#declare the variables <br>\n",
    "x = 5 <br>\n",
    "y = 3 <br>\n",
    "\n",
    "#use eval function for basic arithmetic operations with variables <br>\n",
    "calc_add = eval(\"x + y\") <br>\n",
    "calc_sub = eval(\"x - y\") <br>\n",
    "calc_mul = eval(\"x * y\") <br>\n",
    "calc_div = eval(\"x / y\") <br>\n",
    "\n",
    "#print the results <br>\n",
    "print(calc_add) <br>\n",
    "print(calc_sub) <br>\n",
    "print(calc_mul) <br>\n",
    "print(calc_div) <br>\n",
    "\n"
   ]
  },
  {
   "cell_type": "code",
   "execution_count": 4,
   "id": "8891be2b-21d3-4d20-8d8d-9fe2df7a33f5",
   "metadata": {
    "tags": []
   },
   "outputs": [
    {
     "data": {
      "text/plain": [
       "17"
      ]
     },
     "execution_count": 4,
     "metadata": {},
     "output_type": "execute_result"
    }
   ],
   "source": [
    "# This a simple arithmetic expression to mutiply then add integers\n",
    "(3 * 4) + 5 "
   ]
  },
  {
   "cell_type": "code",
   "execution_count": 8,
   "id": "0f1dfb23-ba3e-44ca-9b12-dc180b09bb1e",
   "metadata": {
    "tags": []
   },
   "outputs": [
    {
     "name": "stdout",
     "output_type": "stream",
     "text": [
      "200 minutes is 3.3333333333333335 hours\n"
     ]
    }
   ],
   "source": [
    "# This will convert 200 minutes to hours by diving by 60\n",
    "\n",
    "minutes = 200\n",
    "hours = minutes / 60\n",
    "\n",
    "print(f\"{minutes} minutes is {hours} hours\")\n",
    "\n"
   ]
  },
  {
   "cell_type": "markdown",
   "id": "87098d51-0715-4354-a5eb-2e145c9b8a5c",
   "metadata": {},
   "source": [
    "**Objectives:**\n",
    "* List popular languages\n",
    "* Mention commonly used libraries\n",
    "* Example of arithmetic evaluation\n"
   ]
  },
  {
   "cell_type": "markdown",
   "id": "40b79c93-a78a-411a-81dd-2fd4e2c66956",
   "metadata": {},
   "source": [
    "## Author \n",
    "Dennis Vasyschev\n"
   ]
  },
  {
   "cell_type": "code",
   "execution_count": null,
   "id": "80e63439-7777-4713-877c-9d906a4fb164",
   "metadata": {},
   "outputs": [],
   "source": []
  }
 ],
 "metadata": {
  "kernelspec": {
   "display_name": "Python",
   "language": "python",
   "name": "conda-env-python-py"
  },
  "language_info": {
   "codemirror_mode": {
    "name": "ipython",
    "version": 3
   },
   "file_extension": ".py",
   "mimetype": "text/x-python",
   "name": "python",
   "nbconvert_exporter": "python",
   "pygments_lexer": "ipython3",
   "version": "3.7.12"
  }
 },
 "nbformat": 4,
 "nbformat_minor": 5
}
